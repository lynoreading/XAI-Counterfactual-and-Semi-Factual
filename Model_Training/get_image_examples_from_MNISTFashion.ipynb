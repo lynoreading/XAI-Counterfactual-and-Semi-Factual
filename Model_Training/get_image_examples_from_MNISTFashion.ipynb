{
  "nbformat": 4,
  "nbformat_minor": 0,
  "metadata": {
    "colab": {
      "provenance": [],
      "gpuType": "V100"
    },
    "kernelspec": {
      "name": "python3",
      "display_name": "Python 3"
    },
    "language_info": {
      "name": "python"
    },
    "accelerator": "GPU"
  },
  "cells": [
    {
      "cell_type": "code",
      "execution_count": null,
      "metadata": {
        "id": "KoF4iASR81v3"
      },
      "outputs": [],
      "source": [
        "import os\n",
        "import sys\n",
        "import numpy as np\n",
        "import torch\n",
        "import torchvision\n",
        "import torch.nn as nn\n",
        "import torch.nn.functional as F\n",
        "import torch.nn.parallel\n",
        "import torch.backends.cudnn as cudnn\n",
        "import torch.optim as optim\n",
        "import torch.utils.data\n",
        "import torchvision.transforms as transforms\n",
        "import torchvision.datasets as datasets\n",
        "import torchvision.utils as vutils\n",
        "import matplotlib.pyplot as plt\n",
        "\n",
        "from PIL import Image"
      ]
    },
    {
      "cell_type": "code",
      "source": [
        "from google.colab import drive\n",
        "drive.mount('/content/drive')"
      ],
      "metadata": {
        "colab": {
          "base_uri": "https://localhost:8080/"
        },
        "id": "xE9gVNvfBb3M",
        "outputId": "c2ee7ace-9656-4dcb-ddf1-5d19e6d17097"
      },
      "execution_count": null,
      "outputs": [
        {
          "output_type": "stream",
          "name": "stdout",
          "text": [
            "Mounted at /content/drive\n"
          ]
        }
      ]
    },
    {
      "cell_type": "code",
      "source": [
        "CUDA = True\n",
        "seed = 1"
      ],
      "metadata": {
        "id": "gt0428fuBGoq"
      },
      "execution_count": null,
      "outputs": []
    },
    {
      "cell_type": "code",
      "source": [
        "# check cuda\n",
        "CUDA = CUDA and torch.cuda.is_available()\n",
        "print(\"PyTorch version: {}\".format(torch.__version__))\n",
        "if CUDA:\n",
        "    print(\"CUDA version: {}\\n\".format(torch.version.cuda))\n",
        "\n",
        "if CUDA:\n",
        "    torch.cuda.manual_seed(seed)\n",
        "device = torch.device(\"cuda:0\" if CUDA else \"cpu\")\n",
        "cudnn.benchmark = True"
      ],
      "metadata": {
        "colab": {
          "base_uri": "https://localhost:8080/"
        },
        "id": "237wQTiJBSdR",
        "outputId": "f067d5ca-379c-48ff-a067-b9ccda3ae97d"
      },
      "execution_count": null,
      "outputs": [
        {
          "output_type": "stream",
          "name": "stdout",
          "text": [
            "PyTorch version: 2.1.0+cu121\n",
            "CUDA version: 12.1\n",
            "\n"
          ]
        }
      ]
    },
    {
      "cell_type": "code",
      "source": [
        "# locate the MNIST data\n",
        "def load_fashion_dataloaders():\n",
        "    transform = transforms.Compose([\n",
        "        transforms.ToTensor(),\n",
        "        # transforms.Resize(X_DIM),\n",
        "        transforms.Normalize((0.5,), (0.5,))\n",
        "    ])\n",
        "\n",
        "    train_set = torchvision.datasets.FashionMNIST(\n",
        "        root='/content/drive/MyDrive/Data',\n",
        "        train=True,\n",
        "        download=True,\n",
        "        transform=transform\n",
        "    )\n",
        "    train_loader = torch.utils.data.DataLoader(\n",
        "        train_set,\n",
        "        batch_size=8,\n",
        "        shuffle=False,\n",
        "        num_workers=2\n",
        "    )\n",
        "\n",
        "    test_set = torchvision.datasets.FashionMNIST(\n",
        "        root='/content/drive/MyDrive/Data',\n",
        "        train=False,\n",
        "        download=True,\n",
        "        transform=transform\n",
        "    )\n",
        "    test_loader = torch.utils.data.DataLoader(\n",
        "        test_set,\n",
        "        batch_size=1,\n",
        "        shuffle=False\n",
        "    )\n",
        "\n",
        "    return train_loader, test_loader"
      ],
      "metadata": {
        "id": "p05jc_aJSmiw"
      },
      "execution_count": null,
      "outputs": []
    },
    {
      "cell_type": "code",
      "source": [
        "train_loader, test_loader = load_fashion_dataloaders()"
      ],
      "metadata": {
        "id": "5P4YpHMzVZqL"
      },
      "execution_count": null,
      "outputs": []
    },
    {
      "cell_type": "code",
      "source": [
        "class CNN(nn.Module):\n",
        "\n",
        "\tdef __init__(self):\n",
        "\t\tsuper(CNN, self).__init__()\n",
        "\t\tself.main = nn.Sequential(\n",
        "\n",
        "\t\t\t# input is Z, going into a convolution\n",
        "\t\t\tnn.Conv2d(1, 8, kernel_size=5, stride=1, padding=2),\n",
        "\t\t\tnn.BatchNorm2d(8),\n",
        "\t\t\tnn.ReLU(True),\n",
        "\t\t\tnn.Dropout2d(p=0.1),\n",
        "\n",
        "\t\t\tnn.Conv2d(8, 16, kernel_size=5, stride=2, padding=2),\n",
        "\t\t\tnn.BatchNorm2d(16),\n",
        "\t\t\tnn.ReLU(True),\n",
        "\t\t\tnn.Dropout2d(p=0.1),\n",
        "\n",
        "\t\t\tnn.Conv2d(16, 32, kernel_size=5, stride=1, padding=2),\n",
        "\t\t\tnn.BatchNorm2d(32),\n",
        "\t\t\tnn.ReLU(True),\n",
        "\t\t\tnn.Dropout2d(p=0.1),\n",
        "\n",
        "\t\t\tnn.Conv2d(32, 64, kernel_size=5, stride=2, padding=2),\n",
        "\t\t\tnn.BatchNorm2d(64),\n",
        "\t\t\tnn.ReLU(True),\n",
        "\t\t\tnn.Dropout2d(p=0.2),\n",
        "\n",
        "\t\t\tnn.Conv2d(64, 128, kernel_size=3, stride=1, padding=1),\n",
        "\t\t\tnn.BatchNorm2d(128),\n",
        "\t\t\tnn.ReLU(True)\n",
        "\t\t)\n",
        "\n",
        "\t\tself.classifier = nn.Sequential(\n",
        "\t\t\tnn.Linear(128, 10),\n",
        "\t\t)\n",
        "\n",
        "\tdef forward(self, x):\n",
        "\t\tx = self.main(x) #\n",
        "\t\tx = torch.mean(x.view(x.size(0), x.size(1), -1), dim=2)  # GAP Layer\n",
        "\t\tlogits = self.classifier(x)\n",
        "\t\tpred = F.softmax(logits, dim=1)\n",
        "\n",
        "\t\treturn pred, logits, x\n"
      ],
      "metadata": {
        "id": "NfLlw7d5SmgC"
      },
      "execution_count": null,
      "outputs": []
    },
    {
      "cell_type": "code",
      "source": [
        "model = CNN().to(device)\n",
        "model_checkpoint = torch.load('/content/drive/MyDrive/Data/cnn_lr_2e_4_epoch50.pth')\n",
        "model.load_state_dict(model_checkpoint)\n",
        "\n",
        "model"
      ],
      "metadata": {
        "colab": {
          "base_uri": "https://localhost:8080/"
        },
        "id": "_6co-DaFSmdb",
        "outputId": "9ed658f4-f006-4792-f140-85dc18448c3c"
      },
      "execution_count": null,
      "outputs": [
        {
          "output_type": "execute_result",
          "data": {
            "text/plain": [
              "CNN(\n",
              "  (main): Sequential(\n",
              "    (0): Conv2d(1, 8, kernel_size=(5, 5), stride=(1, 1), padding=(2, 2))\n",
              "    (1): BatchNorm2d(8, eps=1e-05, momentum=0.1, affine=True, track_running_stats=True)\n",
              "    (2): ReLU(inplace=True)\n",
              "    (3): Dropout2d(p=0.1, inplace=False)\n",
              "    (4): Conv2d(8, 16, kernel_size=(5, 5), stride=(2, 2), padding=(2, 2))\n",
              "    (5): BatchNorm2d(16, eps=1e-05, momentum=0.1, affine=True, track_running_stats=True)\n",
              "    (6): ReLU(inplace=True)\n",
              "    (7): Dropout2d(p=0.1, inplace=False)\n",
              "    (8): Conv2d(16, 32, kernel_size=(5, 5), stride=(1, 1), padding=(2, 2))\n",
              "    (9): BatchNorm2d(32, eps=1e-05, momentum=0.1, affine=True, track_running_stats=True)\n",
              "    (10): ReLU(inplace=True)\n",
              "    (11): Dropout2d(p=0.1, inplace=False)\n",
              "    (12): Conv2d(32, 64, kernel_size=(5, 5), stride=(2, 2), padding=(2, 2))\n",
              "    (13): BatchNorm2d(64, eps=1e-05, momentum=0.1, affine=True, track_running_stats=True)\n",
              "    (14): ReLU(inplace=True)\n",
              "    (15): Dropout2d(p=0.2, inplace=False)\n",
              "    (16): Conv2d(64, 128, kernel_size=(3, 3), stride=(1, 1), padding=(1, 1))\n",
              "    (17): BatchNorm2d(128, eps=1e-05, momentum=0.1, affine=True, track_running_stats=True)\n",
              "    (18): ReLU(inplace=True)\n",
              "  )\n",
              "  (classifier): Sequential(\n",
              "    (0): Linear(in_features=128, out_features=10, bias=True)\n",
              "  )\n",
              ")"
            ]
          },
          "metadata": {},
          "execution_count": 8
        }
      ]
    },
    {
      "cell_type": "code",
      "source": [
        "class Discriminator(nn.Module):\n",
        "    def __init__(self, ngpu=1, nc=1, ndf=64):\n",
        "        super(Discriminator, self).__init__()\n",
        "        self.ngpu = ngpu\n",
        "        self.main = nn.Sequential(\n",
        "            # input is (nc) x 64 x 64\n",
        "            nn.Conv2d(nc, ndf, 4, 2, 1, bias=False),\n",
        "            nn.LeakyReLU(0.2, inplace=True),\n",
        "            # state size. (ndf) x 32 x 32\n",
        "            nn.Conv2d(ndf, ndf * 2, 4, 2, 1, bias=False),\n",
        "            nn.BatchNorm2d(ndf * 2),\n",
        "            nn.LeakyReLU(0.2, inplace=True),\n",
        "            # state size. (ndf*2) x 16 x 16\n",
        "            nn.Conv2d(ndf * 2, ndf * 4, 4, 2, 1, bias=False),\n",
        "            nn.BatchNorm2d(ndf * 4),\n",
        "            nn.LeakyReLU(0.2, inplace=True),\n",
        "            # state size. (ndf*4) x 8 x 8\n",
        "            nn.Conv2d(ndf * 4, ndf * 8, 4, 2, 1, bias=False),\n",
        "            nn.BatchNorm2d(ndf * 8),\n",
        "            nn.LeakyReLU(0.2, inplace=True),\n",
        "            # state size. (ndf*8) x 4 x 4\n",
        "            nn.Conv2d(ndf * 8, 1, 1, 1, 0, bias=False),\n",
        "            nn.Sigmoid()\n",
        "        )\n",
        "\n",
        "    def forward(self, input):\n",
        "        if input.is_cuda and self.ngpu > 1:\n",
        "            output = nn.parallel.data_parallel(self.main, input, range(self.ngpu))\n",
        "        else:\n",
        "            output = self.main(input)\n",
        "        return output.view(-1, 1).squeeze(1)\n",
        "\n",
        "class Generator(nn.Module):\n",
        "    def __init__(self, ngpu=1, nc=1, nz=100, ngf=64):\n",
        "        super(Generator, self).__init__()\n",
        "        self.ngpu = ngpu\n",
        "        self.main = nn.Sequential(\n",
        "            # input is Z, going into a convolution\n",
        "            nn.ConvTranspose2d(     nz, ngf * 8, 4, 1, 0, bias=False),\n",
        "            nn.BatchNorm2d(ngf * 8),\n",
        "            nn.ReLU(True),\n",
        "            # state size. (ngf*8) x 4 x 4\n",
        "            nn.ConvTranspose2d(ngf * 8, ngf * 4, 4, 2, 1, bias=False),\n",
        "            nn.BatchNorm2d(ngf * 4),\n",
        "            nn.ReLU(True),\n",
        "            # state size. (ngf*4) x 8 x 8\n",
        "            nn.ConvTranspose2d(ngf * 4, ngf * 2, 4, 2, 1, bias=False),\n",
        "            nn.BatchNorm2d(ngf * 2),\n",
        "            nn.ReLU(True),\n",
        "            # state size. (ngf*2) x 16 x 16\n",
        "            nn.ConvTranspose2d(ngf * 2,     ngf, 4, 2, 1, bias=False),\n",
        "            nn.BatchNorm2d(ngf),\n",
        "            nn.ReLU(True),\n",
        "            nn.ConvTranspose2d(    ngf,      nc, kernel_size=1, stride=1, padding=2, bias=False),\n",
        "            nn.Tanh()\n",
        "        )\n",
        "\n",
        "    def forward(self, input):\n",
        "        if input.is_cuda and self.ngpu > 1:\n",
        "            output = nn.parallel.data_parallel(self.main, input, range(self.ngpu))\n",
        "        else:\n",
        "            output = self.main(input)\n",
        "        return output"
      ],
      "metadata": {
        "id": "H35tLDFiABNy"
      },
      "execution_count": null,
      "outputs": []
    },
    {
      "cell_type": "code",
      "source": [
        "netD = Discriminator().to(device)\n",
        "discriminator_checkpoint = torch.load('/content/drive/MyDrive/Data/discriminator_weights_epoch70.pth')\n",
        "netD.load_state_dict(discriminator_checkpoint)\n",
        "netD.eval()\n",
        "netG = Generator().to(device)\n",
        "generator_checkpoint = torch.load('/content/drive/MyDrive/Data/generator_weights_epoch70.pth')\n",
        "netG.load_state_dict(generator_checkpoint)\n",
        "netG.eval()\n",
        "print(netG)\n",
        "print(netD)"
      ],
      "metadata": {
        "id": "Pjtw6UC5AFqa"
      },
      "execution_count": null,
      "outputs": []
    },
    {
      "cell_type": "code",
      "source": [
        "# 10 types of clothes in FashionMNIST dataset\n",
        "def output_label(label):\n",
        "  output_mapping = {\n",
        "      0: \"T-shirt\",\n",
        "      1: \"Trouser\",\n",
        "      2: \"Pullover\",\n",
        "      3: \"Dress\",\n",
        "      4: \"Coat\",\n",
        "      5: \"Sandal\",\n",
        "      6: \"Shirt\",\n",
        "      7: \"Sneaker\",\n",
        "      8: \"Bag\",\n",
        "      9: \"Ankle Boot\"\n",
        "  }\n",
        "\n",
        "  input = (label.item() if type(label) == torch.Tensor else label)\n",
        "\n",
        "  return output_mapping[input]"
      ],
      "metadata": {
        "id": "cuInZTkzSmXc"
      },
      "execution_count": null,
      "outputs": []
    },
    {
      "cell_type": "code",
      "source": [
        "def loss_func(output, target):\n",
        "    return torch.norm(output - target)**2\n",
        "\n",
        "correct_predictions = 0\n",
        "total_samples = 0\n",
        "count = 0\n",
        "num_epochs = 3000\n",
        "\n",
        "# Use the model for inference on the test set\n",
        "# with torch.no_grad():  # Disable gradient calculation during inference\n",
        "for i, (images, labels) in enumerate(test_loader):\n",
        "  images, labels = images.to(device), labels.to(device)\n",
        "  outputs, _, _ = model(images)\n",
        "  predicted = torch.argmax(outputs, 1)\n",
        "  correct_predictions += (predicted == labels).sum().item()\n",
        "  total_samples += labels.size(0)\n",
        "\n",
        "  if predicted != labels:\n",
        "\n",
        "    count += 1\n",
        "    image_output = images.squeeze()\n",
        "    image_output = transforms.functional.to_pil_image(image_output)\n",
        "    filename = f\"true_label_{output_label(labels)}_predicted_label_{output_label(predicted)}_{count}.png\"\n",
        "    image_output.save(os.path.join('/content/drive/MyDrive/Data/incorrect_img2', filename))\n",
        "\n",
        "\n",
        "    I = images\n",
        "    z0 = torch.randn(1, 100, 1, 1, device=device)\n",
        "    z0.requires_grad = True\n",
        "    optimizer = optim.Adam([z0], lr=0.01)\n",
        "\n",
        "    for epoch in range(num_epochs):\n",
        "        generated_img = netG(z0)\n",
        "\n",
        "        reconstruction_loss = loss_func(generated_img, I)\n",
        "        # which layer should be compared?\n",
        "\n",
        "        # feature_loss = loss_func(netD(netG(z0)), netD(I))\n",
        "\n",
        "        C, _, _ = model(netG(z0))\n",
        "        C_prine, _, _ = model(I)\n",
        "        feature_loss = loss_func(C, C_prine)\n",
        "        loss = reconstruction_loss + feature_loss\n",
        "\n",
        "        optimizer.zero_grad()\n",
        "        loss.backward()\n",
        "        optimizer.step()\n",
        "\n",
        "    save_base_path = '/content/drive/MyDrive/Data/incorrect_latent_z2'\n",
        "    pt_filename = f'true_label_{output_label(labels)}_predicted_label_{output_label(predicted)}_{count}.pt'\n",
        "    save_path = os.path.join(save_base_path, pt_filename)\n",
        "    torch.save(z0.detach(), save_path)\n",
        "\n",
        "    if count == 50:\n",
        "      break\n",
        "\n",
        "  if i % 100 == 0:\n",
        "    print(\"[%d/%d]\"% (i, len(test_loader)))\n",
        "\n",
        "\n",
        "\n",
        "\n",
        "# Calculate accuracy\n",
        "accuracy = correct_predictions / total_samples\n",
        "print(f'Test Accuracy: {accuracy * 100:.2f}%')\n",
        "print(\"Number of incorrect predicted images: \", count)"
      ],
      "metadata": {
        "colab": {
          "base_uri": "https://localhost:8080/"
        },
        "id": "q--zPFsASzPM",
        "outputId": "4e5e41b6-b004-42cc-d373-9e1a50197197"
      },
      "execution_count": null,
      "outputs": [
        {
          "output_type": "stream",
          "name": "stdout",
          "text": [
            "[0/10000]\n",
            "[100/10000]\n",
            "[200/10000]\n",
            "[300/10000]\n",
            "Test Accuracy: 87.41%\n",
            "Number of incorrect predicted images:  50\n"
          ]
        }
      ]
    },
    {
      "cell_type": "code",
      "source": [],
      "metadata": {
        "id": "YYJbrQ_ASzGM"
      },
      "execution_count": null,
      "outputs": []
    },
    {
      "cell_type": "code",
      "source": [
        "pt_file_path = '/content/drive/MyDrive/Data/incorrect_latent_z2'"
      ],
      "metadata": {
        "id": "AqJWlUEXbvj0"
      },
      "execution_count": null,
      "outputs": []
    },
    {
      "cell_type": "code",
      "source": [
        "pt_files = [f for f in os.listdir(pt_file_path) if f.endswith('.pt')]"
      ],
      "metadata": {
        "id": "RsGJlzGwbvhR"
      },
      "execution_count": null,
      "outputs": []
    },
    {
      "cell_type": "code",
      "source": [
        "len(pt_files)"
      ],
      "metadata": {
        "colab": {
          "base_uri": "https://localhost:8080/"
        },
        "id": "wBgYwXTIkg6C",
        "outputId": "35da5119-d412-438e-cbfa-3917bc1bc124"
      },
      "execution_count": null,
      "outputs": [
        {
          "output_type": "execute_result",
          "data": {
            "text/plain": [
              "50"
            ]
          },
          "metadata": {},
          "execution_count": 24
        }
      ]
    },
    {
      "cell_type": "code",
      "source": [
        "for pt_file in pt_files:\n",
        "  pt_path = os.path.join(pt_file_path, pt_file)\n",
        "  ze = torch.load(pt_path)\n",
        "  ze = ze.to(device)\n",
        "  img_z = netG(ze).squeeze()\n",
        "  img_z = transforms.functional.to_pil_image(img_z)\n",
        "\n",
        "  img_z.save(os.path.join('/content/drive/MyDrive/Data/incorrect_gen_img2', f\"{pt_file.replace('.pt', '.png')}\"))\n"
      ],
      "metadata": {
        "id": "NGwnoZWbbve7"
      },
      "execution_count": null,
      "outputs": []
    }
  ]
}