{
 "cells": [
  {
   "cell_type": "code",
   "execution_count": 13,
   "metadata": {},
   "outputs": [],
   "source": [
    "\n",
    "import os\n",
    "import numpy as np\n",
    "import pandas as pd\n",
    "import matplotlib.pyplot as plt\n",
    "\n",
    "import torch\n",
    "import torch.nn as nn\n",
    "import torch.nn.functional as F\n",
    "\n",
    "import torchvision\n",
    "import torchvision.transforms as transforms\n",
    "import torchvision.datasets as datasets"
   ]
  },
  {
   "cell_type": "code",
   "execution_count": 4,
   "metadata": {},
   "outputs": [],
   "source": [
    "# locate the MNIST data\n",
    "def load_fashion_dataloaders():\n",
    "    transform = transforms.Compose([\n",
    "        transforms.ToTensor(),\n",
    "        # transforms.Resize(X_DIM),\n",
    "        transforms.Normalize((0.5,), (0.5,))\n",
    "    ])\n",
    "\n",
    "    train_set = torchvision.datasets.FashionMNIST(\n",
    "        root='./data',\n",
    "        train=True,\n",
    "        download=True,\n",
    "        transform=transform\n",
    "    )\n",
    "    train_loader = torch.utils.data.DataLoader(\n",
    "        train_set,\n",
    "        batch_size=8,\n",
    "        shuffle=False,\n",
    "        num_workers=2\n",
    "    )\n",
    "\n",
    "    test_set = torchvision.datasets.FashionMNIST(\n",
    "        root='./data',\n",
    "        train=False,\n",
    "        download=True,\n",
    "        transform=transform\n",
    "    )\n",
    "    test_loader = torch.utils.data.DataLoader(\n",
    "        test_set,\n",
    "        batch_size=1,\n",
    "        shuffle=False\n",
    "    )\n",
    "\n",
    "    return train_loader, test_loader"
   ]
  },
  {
   "cell_type": "code",
   "execution_count": 5,
   "metadata": {},
   "outputs": [
    {
     "name": "stdout",
     "output_type": "stream",
     "text": [
      "7500\n",
      "10000\n"
     ]
    }
   ],
   "source": [
    "train_loader, test_loader = load_fashion_dataloaders()\n",
    "print(len(train_loader))\n",
    "print(len(test_loader))"
   ]
  },
  {
   "cell_type": "code",
   "execution_count": 20,
   "metadata": {},
   "outputs": [
    {
     "data": {
      "text/plain": [
       "9"
      ]
     },
     "execution_count": 20,
     "metadata": {},
     "output_type": "execute_result"
    }
   ],
   "source": [
    "img_show, label_show = next(iter(test_loader))\n",
    "label_show.item()"
   ]
  },
  {
   "cell_type": "code",
   "execution_count": 8,
   "metadata": {},
   "outputs": [],
   "source": [
    "class CNN(nn.Module):\n",
    "\n",
    "\tdef __init__(self):\n",
    "\t\tsuper(CNN, self).__init__()\n",
    "\t\tself.main = nn.Sequential(\n",
    "\n",
    "\t\t\t# input is Z, going into a convolution\n",
    "\t\t\tnn.Conv2d(1, 8, kernel_size=5, stride=1, padding=2),\n",
    "\t\t\tnn.BatchNorm2d(8),\n",
    "\t\t\tnn.ReLU(True),\n",
    "\t\t\tnn.Dropout2d(p=0.1),\n",
    "\n",
    "\t\t\tnn.Conv2d(8, 16, kernel_size=5, stride=2, padding=2),\n",
    "\t\t\tnn.BatchNorm2d(16),\n",
    "\t\t\tnn.ReLU(True),\n",
    "\t\t\tnn.Dropout2d(p=0.1),\n",
    "\n",
    "\t\t\tnn.Conv2d(16, 32, kernel_size=5, stride=1, padding=2),\n",
    "\t\t\tnn.BatchNorm2d(32),\n",
    "\t\t\tnn.ReLU(True),\n",
    "\t\t\tnn.Dropout2d(p=0.1),\n",
    "\n",
    "\t\t\tnn.Conv2d(32, 64, kernel_size=5, stride=2, padding=2),\n",
    "\t\t\tnn.BatchNorm2d(64),\n",
    "\t\t\tnn.ReLU(True),\n",
    "\t\t\tnn.Dropout2d(p=0.2),\n",
    "\n",
    "\t\t\tnn.Conv2d(64, 128, kernel_size=3, stride=1, padding=1),\n",
    "\t\t\tnn.BatchNorm2d(128),\n",
    "\t\t\tnn.ReLU(True)\n",
    "\t\t)\n",
    "\n",
    "\t\tself.classifier = nn.Sequential(\n",
    "\t\t\tnn.Linear(128, 10),\n",
    "\t\t)\n",
    "\n",
    "\tdef forward(self, x):\n",
    "\t\tx = self.main(x) #\n",
    "\t\tx = torch.mean(x.view(x.size(0), x.size(1), -1), dim=2)  # GAP Layer\n",
    "\t\tlogits = self.classifier(x)\n",
    "\t\tpred = F.softmax(logits, dim=1)\n",
    "\n",
    "\t\treturn pred, logits, x\n"
   ]
  },
  {
   "cell_type": "code",
   "execution_count": 10,
   "metadata": {},
   "outputs": [
    {
     "data": {
      "text/plain": [
       "CNN(\n",
       "  (main): Sequential(\n",
       "    (0): Conv2d(1, 8, kernel_size=(5, 5), stride=(1, 1), padding=(2, 2))\n",
       "    (1): BatchNorm2d(8, eps=1e-05, momentum=0.1, affine=True, track_running_stats=True)\n",
       "    (2): ReLU(inplace=True)\n",
       "    (3): Dropout2d(p=0.1, inplace=False)\n",
       "    (4): Conv2d(8, 16, kernel_size=(5, 5), stride=(2, 2), padding=(2, 2))\n",
       "    (5): BatchNorm2d(16, eps=1e-05, momentum=0.1, affine=True, track_running_stats=True)\n",
       "    (6): ReLU(inplace=True)\n",
       "    (7): Dropout2d(p=0.1, inplace=False)\n",
       "    (8): Conv2d(16, 32, kernel_size=(5, 5), stride=(1, 1), padding=(2, 2))\n",
       "    (9): BatchNorm2d(32, eps=1e-05, momentum=0.1, affine=True, track_running_stats=True)\n",
       "    (10): ReLU(inplace=True)\n",
       "    (11): Dropout2d(p=0.1, inplace=False)\n",
       "    (12): Conv2d(32, 64, kernel_size=(5, 5), stride=(2, 2), padding=(2, 2))\n",
       "    (13): BatchNorm2d(64, eps=1e-05, momentum=0.1, affine=True, track_running_stats=True)\n",
       "    (14): ReLU(inplace=True)\n",
       "    (15): Dropout2d(p=0.2, inplace=False)\n",
       "    (16): Conv2d(64, 128, kernel_size=(3, 3), stride=(1, 1), padding=(1, 1))\n",
       "    (17): BatchNorm2d(128, eps=1e-05, momentum=0.1, affine=True, track_running_stats=True)\n",
       "    (18): ReLU(inplace=True)\n",
       "  )\n",
       "  (classifier): Sequential(\n",
       "    (0): Linear(in_features=128, out_features=10, bias=True)\n",
       "  )\n",
       ")"
      ]
     },
     "execution_count": 10,
     "metadata": {},
     "output_type": "execute_result"
    }
   ],
   "source": [
    "model = CNN()\n",
    "model_checkpoint = torch.load('cnn_lr_2e_4_epoch50.pth', map_location='cpu')\n",
    "model.load_state_dict(model_checkpoint)\n",
    "\n",
    "model"
   ]
  },
  {
   "cell_type": "code",
   "execution_count": 26,
   "metadata": {},
   "outputs": [],
   "source": [
    "# 10 types of clothes in FashionMNIST dataset\n",
    "def output_label(label):\n",
    "  output_mapping = {\n",
    "      0: \"T-shirt\",\n",
    "      1: \"Trouser\",\n",
    "      2: \"Pullover\",\n",
    "      3: \"Dress\",\n",
    "      4: \"Coat\",\n",
    "      5: \"Sandal\",\n",
    "      6: \"Shirt\",\n",
    "      7: \"Sneaker\",\n",
    "      8: \"Bag\",\n",
    "      9: \"Ankle Boot\"\n",
    "  }\n",
    "\n",
    "  input = (label.item() if type(label) == torch.Tensor else label)\n",
    "\n",
    "  return output_mapping[input]"
   ]
  },
  {
   "cell_type": "code",
   "execution_count": 27,
   "metadata": {},
   "outputs": [
    {
     "name": "stdout",
     "output_type": "stream",
     "text": [
      "Test Accuracy: 85.84%\n",
      "Number of incorrect predicted images:  1416\n"
     ]
    }
   ],
   "source": [
    "correct_predictions = 0\n",
    "total_samples = 0\n",
    "count = 0\n",
    "incorrect_indices = []\n",
    "\n",
    "# Use the model for inference on the test set\n",
    "with torch.no_grad():  # Disable gradient calculation during inference\n",
    "    for batch_idx, (images, labels) in enumerate(test_loader):\n",
    "        outputs, _, _ = model(images)\n",
    "        predicted = torch.argmax(outputs, 1)\n",
    "        correct_predictions += (predicted == labels).sum().item()\n",
    "        total_samples += labels.size(0)\n",
    "        \n",
    "        if predicted != labels:\n",
    "            \n",
    "            incorrect_indices.append(batch_idx)\n",
    "            \n",
    "            image = images.squeeze()\n",
    "            image = transforms.functional.to_pil_image(image)\n",
    "            filename = f\"true_label_{output_label(labels)}_predicted_label_{output_label(predicted)}.png\"\n",
    "            image.save(os.path.join('./yifan_data/incorrect_pred_images', filename))\n",
    "            count += 1\n",
    "\n",
    "# Calculate accuracy\n",
    "accuracy = correct_predictions / total_samples\n",
    "print(f'Test Accuracy: {accuracy * 100:.2f}%')\n",
    "print(\"Number of incorrect predicted images: \", count)"
   ]
  }
 ],
 "metadata": {
  "kernelspec": {
   "display_name": "Python 3.10.7 64-bit",
   "language": "python",
   "name": "python3"
  },
  "language_info": {
   "codemirror_mode": {
    "name": "ipython",
    "version": 3
   },
   "file_extension": ".py",
   "mimetype": "text/x-python",
   "name": "python",
   "nbconvert_exporter": "python",
   "pygments_lexer": "ipython3",
   "version": "3.10.7"
  },
  "orig_nbformat": 4,
  "vscode": {
   "interpreter": {
    "hash": "369f2c481f4da34e4445cda3fffd2e751bd1c4d706f27375911949ba6bb62e1c"
   }
  }
 },
 "nbformat": 4,
 "nbformat_minor": 2
}
